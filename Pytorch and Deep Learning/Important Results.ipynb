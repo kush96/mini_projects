{
 "cells": [
  {
   "cell_type": "code",
   "execution_count": 1,
   "metadata": {},
   "outputs": [],
   "source": [
    "import numpy as np\n",
    "\n",
    "import torch\n",
    "import torch.nn as nn\n",
    "from torch.autograd import Variable\n",
    "import torch.optim as optim\n",
    "\n",
    "import PIL\n",
    "from PIL import Image\n",
    "import matplotlib.pyplot as plt\n",
    "\n",
    "import torchvision.transforms as transforms\n",
    "import torchvision.models as models"
   ]
  },
  {
   "cell_type": "code",
   "execution_count": 3,
   "metadata": {},
   "outputs": [],
   "source": [
    "transforms.ToTensor?"
   ]
  },
  {
   "cell_type": "code",
   "execution_count": 4,
   "metadata": {},
   "outputs": [],
   "source": [
    "imsize = 200\n",
    "\n",
    "loader = transforms.Compose([\n",
    "    transforms.Resize(imsize),  # scale imported image\n",
    "    transforms.ToTensor()])\n",
    "im1 = Image.open(\"/home/kush/Desktop/silverback.jpg\")"
   ]
  },
  {
   "cell_type": "markdown",
   "metadata": {},
   "source": [
    "# Important Functions"
   ]
  },
  {
   "cell_type": "code",
   "execution_count": 5,
   "metadata": {},
   "outputs": [
    {
     "name": "stdout",
     "output_type": "stream",
     "text": [
      "<class 'torch.Tensor'>\n",
      "torch.Size([3, 200, 297])\n",
      "torch.Size([3, 673, 1000])\n"
     ]
    }
   ],
   "source": [
    "ImgProc1 = transforms.ToTensor() # Processing 1\n",
    "\n",
    "ImgProc2 =loader = transforms.Compose([\n",
    "    transforms.Resize(imsize),  \n",
    "    transforms.ToTensor()]) # All Processes in order\n",
    "\n",
    "image1 = ImgProc2(im1) # First image processed (should be PIL)\n",
    "\n",
    "print type(image1)     # image1 is Tensor\n",
    "\n",
    "image2 = ImgProc1(im1) # Second \n",
    "\n",
    "ImgConv = transforms.ToPILImage() # Converter object for tensors\n",
    "\n",
    "PIL_im1 = ImgConv(image1) # First Tensor converted to PIL\n",
    "PIL_im2 = ImgConv(image2)\n",
    "\n",
    "print image1.size() # new size due to Resize is 200*new_width\n",
    "print image2.size() # orignal size \n",
    "\n",
    "# PIL_im1.show"
   ]
  },
  {
   "cell_type": "code",
   "execution_count": 27,
   "metadata": {},
   "outputs": [
    {
     "name": "stdout",
     "output_type": "stream",
     "text": [
      "torch.Size([4])\n",
      "torch.Size([2, 2])\n",
      "torch.Size([2, 1, 2])\n"
     ]
    }
   ],
   "source": [
    "a = torch.tensor([1,2,3,4])\n",
    "print a.size()\n",
    "a = a.view(2,-1)\n",
    "print a.size()\n",
    "a = a.unsqueeze(1) # adds dummy dimension at index 1\n",
    "print a.size()"
   ]
  },
  {
   "cell_type": "code",
   "execution_count": 56,
   "metadata": {},
   "outputs": [],
   "source": [
    "# Pytorch Basics\n",
    "x1 = torch.tensor([1], requires_grad=True)\n",
    "# x1.requires_grad_(requires_grad=True) # if not already set\n",
    "x2 = torch.tensor([3], requires_grad = True)\n"
   ]
  },
  {
   "cell_type": "raw",
   "metadata": {},
   "source": [
    "#########################################################\n",
    "#########################################################\n",
    "CASE WHEN retain_graph is False\n",
    "#########################################################\n",
    "#########################################################"
   ]
  },
  {
   "cell_type": "code",
   "execution_count": 70,
   "metadata": {},
   "outputs": [],
   "source": [
    "if x1.grad is not None:\n",
    "    x1.grad.zero_()      # first time x1.grad will be None so skip ,\n",
    "                         # next time it is important to make grads 0\n",
    "                         # and then redifine whole graph again\n",
    "\n",
    "if x2.grad is not None:  # Do this for both leaf nodes  \n",
    "    x2.grad.zero_()\n",
    "    \n",
    "    \n",
    "y = 2*(x1**2) + x2**2\n",
    "z = y**3\n",
    "w = z.sum()\n",
    "# Two leaf nodes x1 and x2\n",
    "# No other intermediate node can have req_grad = True\n",
    "w.backward()\n",
    "\n",
    "# IF retain_graph == False\n",
    "# our intermediate values of y,z and w get flushed to free up space\n",
    "# we can not call w.backward again , as it does not have resources \n",
    "# to calculate it .\n",
    "# Therefore , we will need to redifine the whole graph again"
   ]
  },
  {
   "cell_type": "code",
   "execution_count": 71,
   "metadata": {},
   "outputs": [
    {
     "name": "stdout",
     "output_type": "stream",
     "text": [
      "tensor([ 1452])\n",
      "tensor([ 2178])\n"
     ]
    }
   ],
   "source": [
    "print x1.grad\n",
    "print x2.grad"
   ]
  },
  {
   "cell_type": "markdown",
   "metadata": {},
   "source": [
    "#########################################################\n",
    "#########################################################\n",
    "CASE WHEN retain_graph is False\n",
    "#########################################################\n",
    "#########################################################"
   ]
  },
  {
   "cell_type": "code",
   "execution_count": 72,
   "metadata": {},
   "outputs": [],
   "source": [
    "x1 = torch.tensor([1], requires_grad=True)\n",
    "# x1.requires_grad_(requires_grad=True) # if not already set\n",
    "x2 = torch.tensor([3], requires_grad = True)\n",
    "\n",
    "y = 2*(x1**2) + x2**2\n",
    "z = y**3\n",
    "w = z.sum()\n",
    "# Two leaf nodes x1 and x2\n",
    "# No other intermediate node can have req_grad = True"
   ]
  },
  {
   "cell_type": "code",
   "execution_count": 79,
   "metadata": {},
   "outputs": [
    {
     "name": "stdout",
     "output_type": "stream",
     "text": [
      "tensor([ 1452])\n",
      "tensor([ 2178])\n"
     ]
    }
   ],
   "source": [
    "if x1.grad is not None:\n",
    "    x1.grad.zero_()      # first time x1.grad will be None so skip ,\n",
    "                         # next time it is important to make grads 0\n",
    "                         # and then redifine whole graph again\n",
    "\n",
    "if x2.grad is not None:  # Do this for both leaf nodes  \n",
    "    x2.grad.zero_()\n",
    "\n",
    "w.backward(retain_graph = True)\n",
    "\n",
    "print x1.grad\n",
    "print x2.grad\n",
    "\n",
    "# Here on making retain_graph = True \n",
    "# I didn't need to remake/ recalculate graph\n",
    "# Additionally , I can comment x2.grad and x1.grad if i wish to accumalate "
   ]
  },
  {
   "cell_type": "code",
   "execution_count": 80,
   "metadata": {},
   "outputs": [],
   "source": [
    "#########################################"
   ]
  },
  {
   "cell_type": "code",
   "execution_count": 134,
   "metadata": {},
   "outputs": [
    {
     "data": {
      "text/plain": [
       "tensor([ 6])"
      ]
     },
     "execution_count": 134,
     "metadata": {},
     "output_type": "execute_result"
    }
   ],
   "source": [
    "# CASE 1\n",
    "x = torch.tensor([3],requires_grad=True)\n",
    "y = x\n",
    "z = y**2\n",
    "\n",
    "z.backward()\n",
    "print y.grad # y is just another name for x"
   ]
  },
  {
   "cell_type": "code",
   "execution_count": 151,
   "metadata": {},
   "outputs": [
    {
     "name": "stdout",
     "output_type": "stream",
     "text": [
      "tensor([ 18])\n",
      "tensor([ 108])\n"
     ]
    }
   ],
   "source": [
    "# CASE 2 :retain_grad()\n",
    "x = torch.tensor([3],requires_grad=True)\n",
    "y = x**2\n",
    "z = y**2\n",
    "y.retain_grad()\n",
    "z.backward()\n",
    "\n",
    "print y.grad # dz/dy\n",
    "print x.grad # dz/dx"
   ]
  },
  {
   "cell_type": "code",
   "execution_count": 172,
   "metadata": {},
   "outputs": [
    {
     "name": "stdout",
     "output_type": "stream",
     "text": [
      "torch.Size([10, 20])\n",
      "tensor([[ 0.,  0.,  0.],\n",
      "        [ 0.,  0.,  0.],\n",
      "        [ 0.,  0.,  0.]])\n",
      "##############################\n",
      "weights\n",
      "tensor([[-0.0857,  0.8062,  0.2587],\n",
      "        [-0.0857,  0.8062,  0.2587],\n",
      "        [-0.0857,  0.8062,  0.2587]])\n",
      "##############################\n",
      "biases\n",
      "tensor([[-0.2029, -0.2079, -0.0282],\n",
      "        [-0.2029, -0.2079, -0.0282],\n",
      "        [-0.2029, -0.2079, -0.0282]])\n"
     ]
    }
   ],
   "source": [
    "x = torch.zeros(10,20) \n",
    "m = torch.nn.Linear(in_features= 20, out_features= 30 , bias = False)\n",
    "# m is a matrix of size 20*30 with random values \n",
    "print x.size()\n",
    "print m(x)[:3,:3] # All zeros with bias = False\n",
    "                  \n",
    "# If we wanted to find initial weights of all edges\n",
    "x = x + 1\n",
    "print '#'*30\n",
    "print \"weights\"\n",
    "print m(x)[:3, :3]\n",
    "# If we wanted to know initial weight of biases\n",
    "x = x - 1\n",
    "m = torch.nn.Linear(in_features= 20, out_features= 30 , bias = True)\n",
    "print '#'*30\n",
    "print \"biases\"\n",
    "print m(x)[:3,:3]"
   ]
  },
  {
   "cell_type": "code",
   "execution_count": 175,
   "metadata": {},
   "outputs": [
    {
     "name": "stdout",
     "output_type": "stream",
     "text": [
      "None\n",
      "tensor([ 6])\n"
     ]
    }
   ],
   "source": [
    "# CASE 2 :retain_grad()\n",
    "x = torch.tensor([3],requires_grad=True)\n",
    "y = x.clone()\n",
    "z = y**2\n",
    "q = x**2\n",
    "y.retain_grad()\n",
    "q.backward()\n",
    "\n",
    "print y.grad # dz/dy\n",
    "print x.grad # dz/dx"
   ]
  },
  {
   "cell_type": "code",
   "execution_count": 160,
   "metadata": {},
   "outputs": [],
   "source": [
    "x = torch.nn.Linear?"
   ]
  },
  {
   "cell_type": "code",
   "execution_count": null,
   "metadata": {},
   "outputs": [],
   "source": [
    "x = torch.nn.Linear()"
   ]
  },
  {
   "cell_type": "code",
   "execution_count": 176,
   "metadata": {},
   "outputs": [],
   "source": [
    "cnn = models.vgg16(pretrained=True).features"
   ]
  },
  {
   "cell_type": "code",
   "execution_count": 181,
   "metadata": {},
   "outputs": [
    {
     "name": "stdout",
     "output_type": "stream",
     "text": [
      "True\n",
      "False\n",
      "True\n",
      "False\n",
      "False\n",
      "True\n",
      "False\n",
      "True\n",
      "False\n",
      "False\n",
      "True\n",
      "False\n",
      "True\n",
      "False\n",
      "True\n",
      "False\n",
      "False\n",
      "True\n",
      "False\n",
      "True\n",
      "False\n",
      "True\n",
      "False\n",
      "False\n",
      "True\n",
      "False\n",
      "True\n",
      "False\n",
      "True\n",
      "False\n",
      "False\n"
     ]
    }
   ],
   "source": [
    "# for i in cnn:\n",
    "#     print isinstance(i,torch.nn.modules.conv.Conv2d)"
   ]
  },
  {
   "cell_type": "code",
   "execution_count": 201,
   "metadata": {},
   "outputs": [],
   "source": [
    "class Net(torch.nn.Module):\n",
    "    def __init__(self, n_feature, n_hidden, n_output):\n",
    "        super(Net, self).__init__()\n",
    "        self.hidden = torch.nn.Linear(n_feature, n_hidden)   # hidden layer\n",
    "        self.out = torch.nn.Linear(n_hidden, n_output)   # output layer\n",
    "\n",
    "    def forward(self, x):\n",
    "        x = F.relu(self.hidden(x))      # activation function for hidden layer\n",
    "        x = F.softmax(self.out(x))\n",
    "        return x\n",
    "\n",
    "net = Net(n_feature=2, n_hidden=10, n_output=2) "
   ]
  },
  {
   "cell_type": "code",
   "execution_count": 203,
   "metadata": {},
   "outputs": [
    {
     "name": "stdout",
     "output_type": "stream",
     "text": [
      "Parameter containing:\n",
      "tensor([[-0.5196, -0.3155],\n",
      "        [ 0.0001, -0.0907],\n",
      "        [-0.3217, -0.2253],\n",
      "        [ 0.3643, -0.0637],\n",
      "        [-0.4628, -0.4719],\n",
      "        [-0.2935,  0.5907],\n",
      "        [ 0.0572, -0.6557],\n",
      "        [-0.3555, -0.0312],\n",
      "        [-0.5306,  0.4327],\n",
      "        [-0.3127,  0.2162]])\n",
      "Parameter containing:\n",
      "tensor([-0.5295, -0.6759, -0.5870, -0.6399,  0.3817,  0.3991, -0.3413,\n",
      "         0.3378,  0.3137, -0.2684])\n",
      "Parameter containing:\n",
      "tensor([[ 0.0123,  0.2982, -0.0666, -0.0272, -0.0792, -0.2497, -0.2191,\n",
      "          0.2867, -0.2097, -0.2671],\n",
      "        [-0.3132,  0.2973,  0.0714,  0.3036,  0.2546, -0.3048,  0.2165,\n",
      "          0.1221,  0.0846, -0.1101]])\n",
      "Parameter containing:\n",
      "tensor([ 0.1184,  0.2469])\n",
      "<bound method Net.parameters of Net(\n",
      "  (hidden): Linear(in_features=2, out_features=10, bias=True)\n",
      "  (out): Linear(in_features=10, out_features=2, bias=True)\n",
      ")>\n"
     ]
    }
   ],
   "source": [
    "for i in net.parameters():\n",
    "    print i\n",
    "print net.parameters\n",
    "# prints 4 matrices\n",
    "\n",
    "# 1st = 10 * 2 --> 2 input layer * 10 hidden\n",
    "# 2nd = 1 * 10 --> 1 bias for each node in hidden layer\n",
    "# 3rd = 10 * 2 --> 10 input hidden layer * 2 output layer\n",
    "# 4th = 1 * 2 --> 1 bias for each node output layer\n",
    "\n",
    "#TODO : Read about instancemethod\n",
    "#TODO : Study bptt( back prop through time ) to \n",
    "#       understand why we need to make optimizer zero_() here\n",
    " "
   ]
  },
  {
   "cell_type": "code",
   "execution_count": 2,
   "metadata": {},
   "outputs": [],
   "source": [
    "nn.MSELoss?"
   ]
  },
  {
   "cell_type": "code",
   "execution_count": 10,
   "metadata": {},
   "outputs": [
    {
     "data": {
      "text/plain": [
       "'c1'"
      ]
     },
     "execution_count": 10,
     "metadata": {},
     "output_type": "execute_result"
    }
   ],
   "source": [
    "\"c\" + str(1)"
   ]
  },
  {
   "cell_type": "code",
   "execution_count": 13,
   "metadata": {},
   "outputs": [],
   "source": [
    "x = torch.tensor([1,2], requires_grad = True )\n",
    "y = x**2\n",
    "p = y.detach()\n",
    "q = y.clone()"
   ]
  },
  {
   "cell_type": "code",
   "execution_count": 14,
   "metadata": {},
   "outputs": [
    {
     "name": "stdout",
     "output_type": "stream",
     "text": [
      "None\n",
      "<PowBackward0 object at 0x7fa30b8b5310>\n",
      "None\n",
      "<CloneBackward object at 0x7fa30b8b5310>\n"
     ]
    }
   ],
   "source": [
    "print x.grad_fn\n",
    "print y.grad_fn\n",
    "print p.grad_fn\n",
    "print q.grad_fn"
   ]
  },
  {
   "cell_type": "code",
   "execution_count": 17,
   "metadata": {},
   "outputs": [],
   "source": [
    "nn.Sequential?"
   ]
  },
  {
   "cell_type": "code",
   "execution_count": 2,
   "metadata": {},
   "outputs": [],
   "source": [
    "import pandas as pd"
   ]
  },
  {
   "cell_type": "code",
   "execution_count": 3,
   "metadata": {},
   "outputs": [],
   "source": [
    "ds = pd.read_csv(\"/home/kush/Downloads/mnist_train.csv\").values\n",
    "#  .values imports it as ndarray"
   ]
  },
  {
   "cell_type": "code",
   "execution_count": 4,
   "metadata": {},
   "outputs": [
    {
     "data": {
      "text/plain": [
       "(42000, 28, 28)"
      ]
     },
     "execution_count": 4,
     "metadata": {},
     "output_type": "execute_result"
    }
   ],
   "source": [
    "ds.shape    \n",
    "y = ds[:,0]     \n",
    "im_np = ds[:,1:785]    \n",
    "im_np = np.reshape(im_np,(-1,28,28)) \n",
    "im_np.shape"
   ]
  },
  {
   "cell_type": "code",
   "execution_count": 5,
   "metadata": {},
   "outputs": [],
   "source": [
    "im = Image.fromarray(im_np[0,:,:].astype('uint8') )\n",
    "im.show()"
   ]
  },
  {
   "cell_type": "code",
   "execution_count": 15,
   "metadata": {},
   "outputs": [
    {
     "data": {
      "image/png": "[encoded data removed]",
      "text/plain": [
       "<matplotlib.figure.Figure at 0x7ff9c7fc15d0>"
      ]
     },
     "metadata": {},
     "output_type": "display_data"
    }
   ],
   "source": [
    "for ix in im_np[0:10,:,:]:\n",
    "    plt.imshow(ix)\n"
   ]
  },
  {
   "cell_type": "code",
   "execution_count": null,
   "metadata": {},
   "outputs": [],
   "source": []
  }
 ],
 "metadata": {
  "kernelspec": {
   "display_name": "Python 2",
   "language": "python",
   "name": "python2"
  },
  "language_info": {
   "codemirror_mode": {
    "name": "ipython",
    "version": 2
   },
   "file_extension": ".py",
   "mimetype": "text/x-python",
   "name": "python",
   "nbconvert_exporter": "python",
   "pygments_lexer": "ipython2",
   "version": "2.7.12"
  }
 },
 "nbformat": 4,
 "nbformat_minor": 2
}
